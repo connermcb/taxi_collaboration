{
 "cells": [
  {
   "cell_type": "markdown",
   "metadata": {},
   "source": [
    "## Collaborative Notebook for EDA and Feature Engineering of Taxi Data"
   ]
  },
  {
   "cell_type": "markdown",
   "metadata": {},
   "source": [
    "A good place to start might be how taxis are regulated. I've never taken a taxi in NY, but I believe they're metered and have formulae for calculating fares even though it might be complex (e.g. different rates depending on whether the taxi is moving or stuck in traffic, etc.).\n",
    "\n",
    "I found [this website](http://www.nyc.gov/html/tlc/html/passenger/taxicab_rate.shtml) that has a run down of some of the dimensions involved in calculating fares."
   ]
  },
  {
   "cell_type": "markdown",
   "metadata": {},
   "source": [
    "There are some data quality issues that we'll need to deal with, too. Looks there are at least a few zero values in the lat and lon fields. Also, the timestamp is in UTC. Pandas has some timezone conversion functions, so that shouldn't be to difficult to correct. It would be worth manually checking a few dozen to make sure that they have converted correctly. I think those built in functions take into account all of the special cases like daylight savings. We can double check, though."
   ]
  },
  {
   "cell_type": "markdown",
   "metadata": {},
   "source": [
    "![map](outsideny.png)"
   ]
  },
  {
   "cell_type": "markdown",
   "metadata": {},
   "source": [
    "Here are some possible features that occurred to me and we might explore:\n",
    "\n",
    "* distance as the crow flies\n",
    "* actual driving distance\n",
    "* time of day\n",
    "* day of the week\n",
    "* crosses bridge (tolls) (binary variable)\n",
    "* inter-borough/intra-borough\n",
    "* holiday (binary variable)\n",
    "* estimated trip time (data doesn't have start and stop time, so this could take some work)\n",
    "* proximity to landmarks for pickup or dropoff\n",
    "* season/month\n",
    "\n"
   ]
  },
  {
   "cell_type": "markdown",
   "metadata": {},
   "source": [
    "If you're thinking about doing the Coursera specialization, the first course is mostly the philosophy of ML according to Google. If you don't need all that, I recommend you start at Python notebooks in the cloud about 2/3 of the way through the course."
   ]
  },
  {
   "cell_type": "code",
   "execution_count": 36,
   "metadata": {
    "scrolled": true
   },
   "outputs": [],
   "source": [
    "%matplotlib inline\n",
    "\n",
    "import matplotlib\n",
    "import matplotlib.pyplot as plt\n",
    "import pandas as pd\n",
    "import numpy as np"
   ]
  },
  {
   "cell_type": "code",
   "execution_count": 16,
   "metadata": {},
   "outputs": [
    {
     "data": {
      "text/html": [
       "<div>\n",
       "<style scoped>\n",
       "    .dataframe tbody tr th:only-of-type {\n",
       "        vertical-align: middle;\n",
       "    }\n",
       "\n",
       "    .dataframe tbody tr th {\n",
       "        vertical-align: top;\n",
       "    }\n",
       "\n",
       "    .dataframe thead th {\n",
       "        text-align: right;\n",
       "    }\n",
       "</style>\n",
       "<table border=\"1\" class=\"dataframe\">\n",
       "  <thead>\n",
       "    <tr style=\"text-align: right;\">\n",
       "      <th></th>\n",
       "      <th>Unnamed: 0</th>\n",
       "      <th>key</th>\n",
       "      <th>fare_amount</th>\n",
       "      <th>pickup_datetime</th>\n",
       "      <th>pickup_longitude</th>\n",
       "      <th>pickup_latitude</th>\n",
       "      <th>dropoff_longitude</th>\n",
       "      <th>dropoff_latitude</th>\n",
       "      <th>passenger_count</th>\n",
       "    </tr>\n",
       "  </thead>\n",
       "  <tbody>\n",
       "    <tr>\n",
       "      <th>0</th>\n",
       "      <td>1</td>\n",
       "      <td>2009-06-15 17:26:21.0000001</td>\n",
       "      <td>4.5</td>\n",
       "      <td>2009-06-15 17:26:21 UTC</td>\n",
       "      <td>-73.844311</td>\n",
       "      <td>40.721319</td>\n",
       "      <td>-73.841610</td>\n",
       "      <td>40.712278</td>\n",
       "      <td>1</td>\n",
       "    </tr>\n",
       "    <tr>\n",
       "      <th>1</th>\n",
       "      <td>2</td>\n",
       "      <td>2010-01-05 16:52:16.0000002</td>\n",
       "      <td>16.9</td>\n",
       "      <td>2010-01-05 16:52:16 UTC</td>\n",
       "      <td>-74.016048</td>\n",
       "      <td>40.711303</td>\n",
       "      <td>-73.979268</td>\n",
       "      <td>40.782004</td>\n",
       "      <td>1</td>\n",
       "    </tr>\n",
       "    <tr>\n",
       "      <th>2</th>\n",
       "      <td>3</td>\n",
       "      <td>2011-08-18 00:35:00.00000049</td>\n",
       "      <td>5.7</td>\n",
       "      <td>2011-08-18 00:35:00 UTC</td>\n",
       "      <td>-73.982738</td>\n",
       "      <td>40.761270</td>\n",
       "      <td>-73.991242</td>\n",
       "      <td>40.750562</td>\n",
       "      <td>2</td>\n",
       "    </tr>\n",
       "    <tr>\n",
       "      <th>3</th>\n",
       "      <td>4</td>\n",
       "      <td>2012-04-21 04:30:42.0000001</td>\n",
       "      <td>7.7</td>\n",
       "      <td>2012-04-21 04:30:42 UTC</td>\n",
       "      <td>-73.987130</td>\n",
       "      <td>40.733143</td>\n",
       "      <td>-73.991567</td>\n",
       "      <td>40.758092</td>\n",
       "      <td>1</td>\n",
       "    </tr>\n",
       "    <tr>\n",
       "      <th>4</th>\n",
       "      <td>5</td>\n",
       "      <td>2010-03-09 07:51:00.000000135</td>\n",
       "      <td>5.3</td>\n",
       "      <td>2010-03-09 07:51:00 UTC</td>\n",
       "      <td>-73.968095</td>\n",
       "      <td>40.768008</td>\n",
       "      <td>-73.956655</td>\n",
       "      <td>40.783762</td>\n",
       "      <td>1</td>\n",
       "    </tr>\n",
       "  </tbody>\n",
       "</table>\n",
       "</div>"
      ],
      "text/plain": [
       "   Unnamed: 0                            key  fare_amount  \\\n",
       "0           1    2009-06-15 17:26:21.0000001          4.5   \n",
       "1           2    2010-01-05 16:52:16.0000002         16.9   \n",
       "2           3   2011-08-18 00:35:00.00000049          5.7   \n",
       "3           4    2012-04-21 04:30:42.0000001          7.7   \n",
       "4           5  2010-03-09 07:51:00.000000135          5.3   \n",
       "\n",
       "           pickup_datetime  pickup_longitude  pickup_latitude  \\\n",
       "0  2009-06-15 17:26:21 UTC        -73.844311        40.721319   \n",
       "1  2010-01-05 16:52:16 UTC        -74.016048        40.711303   \n",
       "2  2011-08-18 00:35:00 UTC        -73.982738        40.761270   \n",
       "3  2012-04-21 04:30:42 UTC        -73.987130        40.733143   \n",
       "4  2010-03-09 07:51:00 UTC        -73.968095        40.768008   \n",
       "\n",
       "   dropoff_longitude  dropoff_latitude  passenger_count  \n",
       "0         -73.841610         40.712278                1  \n",
       "1         -73.979268         40.782004                1  \n",
       "2         -73.991242         40.750562                2  \n",
       "3         -73.991567         40.758092                1  \n",
       "4         -73.956655         40.783762                1  "
      ]
     },
     "execution_count": 16,
     "metadata": {},
     "output_type": "execute_result"
    }
   ],
   "source": [
    "taxi_data = pd.read_csv(\"train_subset.csv\")\n",
    "taxi_data.head()"
   ]
  },
  {
   "cell_type": "code",
   "execution_count": 22,
   "metadata": {},
   "outputs": [
    {
     "data": {
      "text/plain": [
       "(100000, 9)"
      ]
     },
     "execution_count": 22,
     "metadata": {},
     "output_type": "execute_result"
    }
   ],
   "source": [
    "taxi_data.shape"
   ]
  },
  {
   "cell_type": "code",
   "execution_count": 25,
   "metadata": {},
   "outputs": [],
   "source": [
    "test = taxi_data[taxi_data.pickup_latitude != 0]\n",
    "test = test[test.pickup_longitude != 0]\n",
    "test = test[test.dropoff_latitude != 0]\n",
    "taxi_data = test[test.dropoff_longitude !=0]\n",
    "\n"
   ]
  },
  {
   "cell_type": "code",
   "execution_count": 33,
   "metadata": {},
   "outputs": [
    {
     "data": {
      "text/plain": [
       "1    68170\n",
       "2    14307\n",
       "5     6887\n",
       "3     4217\n",
       "4     2044\n",
       "6     2011\n",
       "0      358\n",
       "Name: passenger_count, dtype: int64"
      ]
     },
     "execution_count": 33,
     "metadata": {},
     "output_type": "execute_result"
    }
   ],
   "source": [
    "taxi_data['passenger_count'].value_counts()"
   ]
  },
  {
   "cell_type": "code",
   "execution_count": 49,
   "metadata": {},
   "outputs": [
    {
     "data": {
      "text/plain": [
       "array([[<matplotlib.axes._subplots.AxesSubplot object at 0x00000228802DADA0>]],\n",
       "      dtype=object)"
      ]
     },
     "execution_count": 49,
     "metadata": {},
     "output_type": "execute_result"
    },
    {
     "data": {
      "image/png": "[encoded data removed]",
      "text/plain": [
       "<matplotlib.figure.Figure at 0x228804c0c88>"
      ]
     },
     "metadata": {},
     "output_type": "display_data"
    }
   ],
   "source": [
    "binwidth = 0.1\n",
    "taxi_data.hist(column=\"fare_amount\", bins=100)"
   ]
  },
  {
   "cell_type": "code",
   "execution_count": 50,
   "metadata": {},
   "outputs": [
    {
     "data": {
      "text/plain": [
       "(11, 9)"
      ]
     },
     "execution_count": 50,
     "metadata": {},
     "output_type": "execute_result"
    }
   ],
   "source": [
    "neg_fares = taxi_data[taxi_data.fare_amount <= 0]\n",
    "neg_fares.shape"
   ]
  },
  {
   "cell_type": "code",
   "execution_count": 51,
   "metadata": {},
   "outputs": [
    {
     "data": {
      "text/html": [
       "<div>\n",
       "<style scoped>\n",
       "    .dataframe tbody tr th:only-of-type {\n",
       "        vertical-align: middle;\n",
       "    }\n",
       "\n",
       "    .dataframe tbody tr th {\n",
       "        vertical-align: top;\n",
       "    }\n",
       "\n",
       "    .dataframe thead th {\n",
       "        text-align: right;\n",
       "    }\n",
       "</style>\n",
       "<table border=\"1\" class=\"dataframe\">\n",
       "  <thead>\n",
       "    <tr style=\"text-align: right;\">\n",
       "      <th></th>\n",
       "      <th>Unnamed: 0</th>\n",
       "      <th>key</th>\n",
       "      <th>fare_amount</th>\n",
       "      <th>pickup_datetime</th>\n",
       "      <th>pickup_longitude</th>\n",
       "      <th>pickup_latitude</th>\n",
       "      <th>dropoff_longitude</th>\n",
       "      <th>dropoff_latitude</th>\n",
       "      <th>passenger_count</th>\n",
       "    </tr>\n",
       "  </thead>\n",
       "  <tbody>\n",
       "    <tr>\n",
       "      <th>2039</th>\n",
       "      <td>2040</td>\n",
       "      <td>2010-03-09 23:37:10.0000005</td>\n",
       "      <td>-2.9</td>\n",
       "      <td>2010-03-09 23:37:10 UTC</td>\n",
       "      <td>-73.789450</td>\n",
       "      <td>40.643498</td>\n",
       "      <td>-73.788665</td>\n",
       "      <td>40.641952</td>\n",
       "      <td>1</td>\n",
       "    </tr>\n",
       "    <tr>\n",
       "      <th>2486</th>\n",
       "      <td>2487</td>\n",
       "      <td>2015-03-22 05:14:27.0000001</td>\n",
       "      <td>-2.5</td>\n",
       "      <td>2015-03-22 05:14:27 UTC</td>\n",
       "      <td>-74.000031</td>\n",
       "      <td>40.720631</td>\n",
       "      <td>-73.999809</td>\n",
       "      <td>40.720539</td>\n",
       "      <td>1</td>\n",
       "    </tr>\n",
       "    <tr>\n",
       "      <th>10002</th>\n",
       "      <td>10003</td>\n",
       "      <td>2010-02-15 14:26:01.0000003</td>\n",
       "      <td>0.0</td>\n",
       "      <td>2010-02-15 14:26:01 UTC</td>\n",
       "      <td>-73.987115</td>\n",
       "      <td>40.738808</td>\n",
       "      <td>-74.005911</td>\n",
       "      <td>40.713960</td>\n",
       "      <td>1</td>\n",
       "    </tr>\n",
       "    <tr>\n",
       "      <th>13032</th>\n",
       "      <td>13033</td>\n",
       "      <td>2013-08-30 08:57:10.0000002</td>\n",
       "      <td>-3.0</td>\n",
       "      <td>2013-08-30 08:57:10 UTC</td>\n",
       "      <td>-73.995062</td>\n",
       "      <td>40.740755</td>\n",
       "      <td>-73.995885</td>\n",
       "      <td>40.741357</td>\n",
       "      <td>4</td>\n",
       "    </tr>\n",
       "    <tr>\n",
       "      <th>27891</th>\n",
       "      <td>27892</td>\n",
       "      <td>2015-05-15 21:40:28.00000010</td>\n",
       "      <td>0.0</td>\n",
       "      <td>2015-05-15 21:40:28 UTC</td>\n",
       "      <td>-74.077927</td>\n",
       "      <td>40.805714</td>\n",
       "      <td>-74.077919</td>\n",
       "      <td>40.805721</td>\n",
       "      <td>1</td>\n",
       "    </tr>\n",
       "    <tr>\n",
       "      <th>36722</th>\n",
       "      <td>36723</td>\n",
       "      <td>2015-04-30 15:19:45.0000003</td>\n",
       "      <td>-2.5</td>\n",
       "      <td>2015-04-30 15:19:45 UTC</td>\n",
       "      <td>-73.952187</td>\n",
       "      <td>40.790112</td>\n",
       "      <td>-73.950043</td>\n",
       "      <td>40.792839</td>\n",
       "      <td>1</td>\n",
       "    </tr>\n",
       "    <tr>\n",
       "      <th>42337</th>\n",
       "      <td>42338</td>\n",
       "      <td>2015-03-09 10:29:46.0000004</td>\n",
       "      <td>-5.0</td>\n",
       "      <td>2015-03-09 10:29:46 UTC</td>\n",
       "      <td>-73.990974</td>\n",
       "      <td>40.755985</td>\n",
       "      <td>-73.980820</td>\n",
       "      <td>40.759869</td>\n",
       "      <td>1</td>\n",
       "    </tr>\n",
       "    <tr>\n",
       "      <th>47302</th>\n",
       "      <td>47303</td>\n",
       "      <td>2010-03-18 19:13:39.0000002</td>\n",
       "      <td>0.0</td>\n",
       "      <td>2010-03-18 19:13:39 UTC</td>\n",
       "      <td>-73.942346</td>\n",
       "      <td>40.806269</td>\n",
       "      <td>-73.942463</td>\n",
       "      <td>40.806129</td>\n",
       "      <td>1</td>\n",
       "    </tr>\n",
       "    <tr>\n",
       "      <th>56748</th>\n",
       "      <td>56749</td>\n",
       "      <td>2015-06-26 01:13:18.0000002</td>\n",
       "      <td>-5.0</td>\n",
       "      <td>2015-06-26 01:13:18 UTC</td>\n",
       "      <td>-73.979797</td>\n",
       "      <td>40.743240</td>\n",
       "      <td>-73.981216</td>\n",
       "      <td>40.737240</td>\n",
       "      <td>6</td>\n",
       "    </tr>\n",
       "    <tr>\n",
       "      <th>58937</th>\n",
       "      <td>58938</td>\n",
       "      <td>2010-02-19 23:47:10.0000002</td>\n",
       "      <td>-44.9</td>\n",
       "      <td>2010-02-19 23:47:10 UTC</td>\n",
       "      <td>-73.871120</td>\n",
       "      <td>40.773902</td>\n",
       "      <td>-73.676533</td>\n",
       "      <td>40.786890</td>\n",
       "      <td>1</td>\n",
       "    </tr>\n",
       "    <tr>\n",
       "      <th>97838</th>\n",
       "      <td>97839</td>\n",
       "      <td>2015-06-07 02:54:14.0000004</td>\n",
       "      <td>-3.0</td>\n",
       "      <td>2015-06-07 02:54:14 UTC</td>\n",
       "      <td>-73.913246</td>\n",
       "      <td>40.766212</td>\n",
       "      <td>-73.914963</td>\n",
       "      <td>40.764065</td>\n",
       "      <td>5</td>\n",
       "    </tr>\n",
       "  </tbody>\n",
       "</table>\n",
       "</div>"
      ],
      "text/plain": [
       "       Unnamed: 0                           key  fare_amount  \\\n",
       "2039         2040   2010-03-09 23:37:10.0000005         -2.9   \n",
       "2486         2487   2015-03-22 05:14:27.0000001         -2.5   \n",
       "10002       10003   2010-02-15 14:26:01.0000003          0.0   \n",
       "13032       13033   2013-08-30 08:57:10.0000002         -3.0   \n",
       "27891       27892  2015-05-15 21:40:28.00000010          0.0   \n",
       "36722       36723   2015-04-30 15:19:45.0000003         -2.5   \n",
       "42337       42338   2015-03-09 10:29:46.0000004         -5.0   \n",
       "47302       47303   2010-03-18 19:13:39.0000002          0.0   \n",
       "56748       56749   2015-06-26 01:13:18.0000002         -5.0   \n",
       "58937       58938   2010-02-19 23:47:10.0000002        -44.9   \n",
       "97838       97839   2015-06-07 02:54:14.0000004         -3.0   \n",
       "\n",
       "               pickup_datetime  pickup_longitude  pickup_latitude  \\\n",
       "2039   2010-03-09 23:37:10 UTC        -73.789450        40.643498   \n",
       "2486   2015-03-22 05:14:27 UTC        -74.000031        40.720631   \n",
       "10002  2010-02-15 14:26:01 UTC        -73.987115        40.738808   \n",
       "13032  2013-08-30 08:57:10 UTC        -73.995062        40.740755   \n",
       "27891  2015-05-15 21:40:28 UTC        -74.077927        40.805714   \n",
       "36722  2015-04-30 15:19:45 UTC        -73.952187        40.790112   \n",
       "42337  2015-03-09 10:29:46 UTC        -73.990974        40.755985   \n",
       "47302  2010-03-18 19:13:39 UTC        -73.942346        40.806269   \n",
       "56748  2015-06-26 01:13:18 UTC        -73.979797        40.743240   \n",
       "58937  2010-02-19 23:47:10 UTC        -73.871120        40.773902   \n",
       "97838  2015-06-07 02:54:14 UTC        -73.913246        40.766212   \n",
       "\n",
       "       dropoff_longitude  dropoff_latitude  passenger_count  \n",
       "2039          -73.788665         40.641952                1  \n",
       "2486          -73.999809         40.720539                1  \n",
       "10002         -74.005911         40.713960                1  \n",
       "13032         -73.995885         40.741357                4  \n",
       "27891         -74.077919         40.805721                1  \n",
       "36722         -73.950043         40.792839                1  \n",
       "42337         -73.980820         40.759869                1  \n",
       "47302         -73.942463         40.806129                1  \n",
       "56748         -73.981216         40.737240                6  \n",
       "58937         -73.676533         40.786890                1  \n",
       "97838         -73.914963         40.764065                5  "
      ]
     },
     "execution_count": 51,
     "metadata": {},
     "output_type": "execute_result"
    }
   ],
   "source": [
    "neg_fares"
   ]
  },
  {
   "cell_type": "code",
   "execution_count": null,
   "metadata": {},
   "outputs": [],
   "source": []
  }
 ],
 "metadata": {
  "kernelspec": {
   "display_name": "Python 3",
   "language": "python",
   "name": "python3"
  },
  "language_info": {
   "codemirror_mode": {
    "name": "ipython",
    "version": 3
   },
   "file_extension": ".py",
   "mimetype": "text/x-python",
   "name": "python",
   "nbconvert_exporter": "python",
   "pygments_lexer": "ipython3",
   "version": "3.6.4"
  }
 },
 "nbformat": 4,
 "nbformat_minor": 2
}
